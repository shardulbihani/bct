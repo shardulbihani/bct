{
 "cells": [
  {
   "cell_type": "code",
   "execution_count": null,
   "metadata": {},
   "outputs": [],
   "source": [
    "import pandas as pd\n",
    "import numpy as np\n",
    "import matplotlib.pyplot as plt\n",
    "from sklearn.cluster import KMeans\n",
    "from sklearn.preprocessing import StandardScaler\n",
    "\n",
    "# Load the dataset\n",
    "df = pd.read_csv('sales_data_sample.csv', encoding='ISO-8859-1')\n",
    "\n",
    "# Select only numerical columns and fill missing values\n",
    "df_numeric = df.select_dtypes(include=[np.number])\n",
    "df_numeric.fillna(df_numeric.mean(), inplace=True)\n",
    "\n",
    "# Standardize the data\n",
    "scaler = StandardScaler()\n",
    "df_scaled = scaler.fit_transform(df_numeric)\n",
    "\n",
    "# Calculate inertia for k values from 1 to 10\n",
    "inertia = []\n",
    "for k in range(1, 11):\n",
    "    kmeans = KMeans(n_clusters=k, random_state=42)\n",
    "    kmeans.fit(df_scaled)\n",
    "    inertia.append(kmeans.inertia_)\n",
    "\n",
    "# Plot the Elbow Method graph\n",
    "plt.plot(range(1, 11), inertia, 'bx-')\n",
    "plt.xlabel('Number of clusters (k)')\n",
    "plt.ylabel('Inertia')\n",
    "plt.title('Elbow Method to Determine Optimal k')\n",
    "plt.show()\n",
    "\n",
    "# Method: Elbow Method with Percentage Change\n",
    "percentage_changes = [(inertia[i-1] - inertia[i]) / inertia[i-1] * 100 for i in range(1, len(inertia))]\n",
    "optimal_k = 1 + np.argmax(percentage_changes)  # Index + 1 to match cluster number\n",
    "print(f\"The optimal number of clusters based on the Elbow Method is: {optimal_k}\")\n",
    "\n",
    "# Apply K-Means with the chosen number of clusters\n",
    "kmeans = KMeans(n_clusters=optimal_k, random_state=42)\n",
    "df['Cluster'] = kmeans.fit_predict(df_scaled)\n",
    "\n",
    "# Display a few rows of the clustered data\n",
    "print(df.head())\n"
   ]
  }
 ],
 "metadata": {
  "kernelspec": {
   "display_name": "Python 3",
   "language": "python",
   "name": "python3"
  },
  "language_info": {
   "codemirror_mode": {
    "name": "ipython",
    "version": 3
   },
   "file_extension": ".py",
   "mimetype": "text/x-python",
   "name": "python",
   "nbconvert_exporter": "python",
   "pygments_lexer": "ipython3",
   "version": "3.8.5"
  }
 },
 "nbformat": 4,
 "nbformat_minor": 4
}
